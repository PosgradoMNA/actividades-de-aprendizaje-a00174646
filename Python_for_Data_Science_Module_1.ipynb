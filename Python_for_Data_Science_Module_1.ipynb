{
  "nbformat": 4,
  "nbformat_minor": 0,
  "metadata": {
    "colab": {
      "provenance": [],
      "collapsed_sections": [],
      "authorship_tag": "ABX9TyPFEv9yb00lg1Bf2xKBjKxI",
      "include_colab_link": true
    },
    "kernelspec": {
      "name": "python3",
      "display_name": "Python 3"
    },
    "language_info": {
      "name": "python"
    }
  },
  "cells": [
    {
      "cell_type": "markdown",
      "metadata": {
        "id": "view-in-github",
        "colab_type": "text"
      },
      "source": [
        "<a href=\"https://colab.research.google.com/github/PosgradoMNA/actividades-de-aprendizaje-a00174646/blob/main/Python_for_Data_Science_Module_1.ipynb\" target=\"_parent\"><img src=\"https://colab.research.google.com/assets/colab-badge.svg\" alt=\"Open In Colab\"/></a>"
      ]
    },
    {
      "cell_type": "code",
      "execution_count": null,
      "metadata": {
        "colab": {
          "base_uri": "https://localhost:8080/"
        },
        "id": "SzfuOY833vhx",
        "outputId": "e368e822-442e-47e6-90c5-23c1deeadddc"
      },
      "outputs": [
        {
          "output_type": "stream",
          "name": "stdout",
          "text": [
            "Hello World!\n"
          ]
        }
      ],
      "source": [
        "print('Hello World!')"
      ]
    },
    {
      "cell_type": "code",
      "source": [
        "print('Hello\\World!')"
      ],
      "metadata": {
        "colab": {
          "base_uri": "https://localhost:8080/"
        },
        "id": "8vZX5eMG4AkF",
        "outputId": "0461cca3-af49-4c73-c6a4-482fd3ab9489"
      },
      "execution_count": null,
      "outputs": [
        {
          "output_type": "stream",
          "name": "stdout",
          "text": [
            "Hello\\World!\n"
          ]
        }
      ]
    },
    {
      "cell_type": "code",
      "source": [
        "#print('Hello World!')"
      ],
      "metadata": {
        "id": "gy4vAfOS4FF5"
      },
      "execution_count": null,
      "outputs": []
    },
    {
      "cell_type": "code",
      "source": [
        "int(1.0)"
      ],
      "metadata": {
        "colab": {
          "base_uri": "https://localhost:8080/"
        },
        "id": "nH_jcyJxJtHH",
        "outputId": "b7de81e0-f544-485d-ef64-683ea5654b5a"
      },
      "execution_count": 1,
      "outputs": [
        {
          "output_type": "execute_result",
          "data": {
            "text/plain": [
              "1"
            ]
          },
          "metadata": {},
          "execution_count": 1
        }
      ]
    },
    {
      "cell_type": "code",
      "source": [
        "bool(1)"
      ],
      "metadata": {
        "colab": {
          "base_uri": "https://localhost:8080/"
        },
        "id": "DLf_gIsEJycr",
        "outputId": "44ab7def-26cc-4e7e-ab64-918cd34e6c85"
      },
      "execution_count": 2,
      "outputs": [
        {
          "output_type": "execute_result",
          "data": {
            "text/plain": [
              "True"
            ]
          },
          "metadata": {},
          "execution_count": 2
        }
      ]
    },
    {
      "cell_type": "code",
      "source": [
        "time_mins = 180\n",
        "time_hrs = time_mins/60\n",
        "print(time_hrs)"
      ],
      "metadata": {
        "colab": {
          "base_uri": "https://localhost:8080/"
        },
        "id": "V-dPrhK4J9Ay",
        "outputId": "17ed1f06-e44c-4e8c-e151-37feabaf9df0"
      },
      "execution_count": 4,
      "outputs": [
        {
          "output_type": "stream",
          "name": "stdout",
          "text": [
            "3.0\n"
          ]
        }
      ]
    },
    {
      "cell_type": "code",
      "source": [
        "#String Operations\n",
        "rock_group = 'Soda Stereo'\n",
        "first_word = rock_group[0:4]\n",
        "second_word = rock_group[5:11]\n",
        "print(first_word + ' ' + second_word)"
      ],
      "metadata": {
        "id": "fXqHQZKKRNlI",
        "outputId": "9134e3f1-a43d-4698-8038-77becabc3c10",
        "colab": {
          "base_uri": "https://localhost:8080/"
        }
      },
      "execution_count": 7,
      "outputs": [
        {
          "output_type": "stream",
          "name": "stdout",
          "text": [
            "Soda Stereo\n"
          ]
        }
      ]
    }
  ]
}