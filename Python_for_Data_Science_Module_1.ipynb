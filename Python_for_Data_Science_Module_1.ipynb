{
  "nbformat": 4,
  "nbformat_minor": 0,
  "metadata": {
    "colab": {
      "provenance": [],
      "collapsed_sections": [],
      "authorship_tag": "ABX9TyMu8OXjak11TWWfmwrigHpw",
      "include_colab_link": true
    },
    "kernelspec": {
      "name": "python3",
      "display_name": "Python 3"
    },
    "language_info": {
      "name": "python"
    }
  },
  "cells": [
    {
      "cell_type": "markdown",
      "metadata": {
        "id": "view-in-github",
        "colab_type": "text"
      },
      "source": [
        "<a href=\"https://colab.research.google.com/github/PosgradoMNA/actividades-de-aprendizaje-a00174646/blob/main/Python_for_Data_Science_Module_1.ipynb\" target=\"_parent\"><img src=\"https://colab.research.google.com/assets/colab-badge.svg\" alt=\"Open In Colab\"/></a>"
      ]
    },
    {
      "cell_type": "code",
      "execution_count": null,
      "metadata": {
        "colab": {
          "base_uri": "https://localhost:8080/"
        },
        "id": "SzfuOY833vhx",
        "outputId": "e368e822-442e-47e6-90c5-23c1deeadddc"
      },
      "outputs": [
        {
          "output_type": "stream",
          "name": "stdout",
          "text": [
            "Hello World!\n"
          ]
        }
      ],
      "source": [
        "print('Hello World!')"
      ]
    },
    {
      "cell_type": "code",
      "source": [
        "print('Hello\\World!')"
      ],
      "metadata": {
        "colab": {
          "base_uri": "https://localhost:8080/"
        },
        "id": "8vZX5eMG4AkF",
        "outputId": "0461cca3-af49-4c73-c6a4-482fd3ab9489"
      },
      "execution_count": null,
      "outputs": [
        {
          "output_type": "stream",
          "name": "stdout",
          "text": [
            "Hello\\World!\n"
          ]
        }
      ]
    },
    {
      "cell_type": "code",
      "source": [
        "#print('Hello World!')"
      ],
      "metadata": {
        "id": "gy4vAfOS4FF5"
      },
      "execution_count": null,
      "outputs": []
    },
    {
      "cell_type": "code",
      "source": [
        "int(1.0)"
      ],
      "metadata": {
        "colab": {
          "base_uri": "https://localhost:8080/"
        },
        "id": "nH_jcyJxJtHH",
        "outputId": "b7de81e0-f544-485d-ef64-683ea5654b5a"
      },
      "execution_count": 1,
      "outputs": [
        {
          "output_type": "execute_result",
          "data": {
            "text/plain": [
              "1"
            ]
          },
          "metadata": {},
          "execution_count": 1
        }
      ]
    },
    {
      "cell_type": "code",
      "source": [
        "bool(1)"
      ],
      "metadata": {
        "colab": {
          "base_uri": "https://localhost:8080/"
        },
        "id": "DLf_gIsEJycr",
        "outputId": "44ab7def-26cc-4e7e-ab64-918cd34e6c85"
      },
      "execution_count": 2,
      "outputs": [
        {
          "output_type": "execute_result",
          "data": {
            "text/plain": [
              "True"
            ]
          },
          "metadata": {},
          "execution_count": 2
        }
      ]
    },
    {
      "cell_type": "code",
      "source": [
        "time_mins = 180\n",
        "time_hrs = time_mins/60\n",
        "print(time_hrs)"
      ],
      "metadata": {
        "colab": {
          "base_uri": "https://localhost:8080/"
        },
        "id": "V-dPrhK4J9Ay",
        "outputId": "17ed1f06-e44c-4e8c-e151-37feabaf9df0"
      },
      "execution_count": 4,
      "outputs": [
        {
          "output_type": "stream",
          "name": "stdout",
          "text": [
            "3.0\n"
          ]
        }
      ]
    },
    {
      "cell_type": "code",
      "source": [
        "#String Operations\n",
        "rock_group = 'Soda Stereo'\n",
        "first_word = rock_group[0:4]\n",
        "second_word = rock_group[5:11]\n",
        "#Concatenating\n",
        "print(first_word + ' ' + second_word)\n",
        "#Stride value\n",
        "print(rock_group[::2])\n",
        "#Stride and Slicing\n",
        "print(rock_group[:5:2])\n",
        "#Length of the string\n",
        "print(len(rock_group))\n",
        "#Multiplying\n",
        "print(first_word*3)\n",
        "#Assignment\n",
        "rock_group_fav = rock_group + ' is my favorite'\n",
        "print(rock_group_fav)\n",
        "#Escape sequences\n",
        "rock_group = rock_group + '\\nis my favorite'\n",
        "print(rock_group)\n",
        "#Escape escapes\n",
        "my_string = \"Hola slash\\\\\"\n",
        "print(my_string)\n",
        "#print(r\"Hola slash\\\")"
      ],
      "metadata": {
        "colab": {
          "base_uri": "https://localhost:8080/"
        },
        "id": "fXqHQZKKRNlI",
        "outputId": "157b5a7c-6b9b-4ae2-a265-092b19fb4034"
      },
      "execution_count": 19,
      "outputs": [
        {
          "output_type": "stream",
          "name": "stdout",
          "text": [
            "Soda Stereo\n",
            "Sd tro\n",
            "Sd \n",
            "11\n",
            "SodaSodaSoda\n",
            "Soda Stereo is my favorite\n",
            "Soda Stereo\n",
            "is my favorite\n",
            "Hola slash\\\n"
          ]
        }
      ]
    },
    {
      "cell_type": "code",
      "source": [
        "#String Methods\n",
        "A = 'It has passed 25 years since last concert...'\n",
        "B = A.upper()\n",
        "print(B)\n",
        "print(A.find('25'))\n",
        "print(A.find('%&'))"
      ],
      "metadata": {
        "id": "DzDdEVHxU_Wy",
        "outputId": "adc69ded-d0f3-4429-f14f-1bde2f1a9c13",
        "colab": {
          "base_uri": "https://localhost:8080/"
        }
      },
      "execution_count": 23,
      "outputs": [
        {
          "output_type": "stream",
          "name": "stdout",
          "text": [
            "IT HAS PASSED 25 YEARS SINCE LAST CONCERT...\n",
            "14\n",
            "-1\n"
          ]
        }
      ]
    },
    {
      "cell_type": "code",
      "source": [
        "Numbers = \"0123456\"\n",
        "print(Numbers[::2])\n",
        "print(\"0123456\".find('1'))"
      ],
      "metadata": {
        "id": "0xXKBFnEdQ_d",
        "outputId": "b1729153-2936-460c-bc85-357078486075",
        "colab": {
          "base_uri": "https://localhost:8080/"
        }
      },
      "execution_count": 25,
      "outputs": [
        {
          "output_type": "stream",
          "name": "stdout",
          "text": [
            "0246\n",
            "1\n"
          ]
        }
      ]
    },
    {
      "cell_type": "code",
      "source": [
        "name = 'Lizz'\n",
        "print(name[0:2])"
      ],
      "metadata": {
        "id": "nv3Cp5H1dph-",
        "outputId": "bb71a62e-78fe-4d7c-fc41-4bbbf050baca",
        "colab": {
          "base_uri": "https://localhost:8080/"
        }
      },
      "execution_count": 26,
      "outputs": [
        {
          "output_type": "stream",
          "name": "stdout",
          "text": [
            "Li\n"
          ]
        }
      ]
    },
    {
      "cell_type": "code",
      "source": [
        "#Tuples and Lists - Compound data types\n",
        "#Tupes are an ordered sequence\n",
        "#Lists are also ordered sequences\n",
        "#Tuples () are immutable, Lists [] as mutable\n",
        "#The index conventions for Lists and Tuples are identical\n",
        "A=(0,1,2,3)\n",
        "print(A[3])\n",
        "print(A[-1])\n",
        "B=[\"a\",\"b\",\"c\"]\n",
        "print(B[1:])"
      ],
      "metadata": {
        "id": "Ax6wvKJSgq2B",
        "outputId": "af6acef3-fcde-4a12-dd34-87a4192d2271",
        "colab": {
          "base_uri": "https://localhost:8080/"
        }
      },
      "execution_count": 28,
      "outputs": [
        {
          "output_type": "stream",
          "name": "stdout",
          "text": [
            "3\n",
            "3\n",
            "['b', 'c']\n"
          ]
        }
      ]
    },
    {
      "cell_type": "code",
      "source": [
        "#Sets{} are a type of collection\n",
        "#Unlike Lists and Tuples, Sets are unordered, this means Sets do not record element position\n",
        "#Sets only have unique elements\n",
        "S={'A','B','C'}\n",
        "U={'A','Z','C'}\n",
        "U.union(S)\n",
        "print(U.union(S))\n",
        "print(S & U)"
      ],
      "metadata": {
        "id": "uBYE_a2X1D9E",
        "outputId": "35a0ca49-44d0-4faf-f9f0-4ed575d4de00",
        "colab": {
          "base_uri": "https://localhost:8080/"
        }
      },
      "execution_count": 31,
      "outputs": [
        {
          "output_type": "stream",
          "name": "stdout",
          "text": [
            "{'Z', 'B', 'A', 'C'}\n",
            "{'A', 'C'}\n"
          ]
        }
      ]
    },
    {
      "cell_type": "code",
      "source": [
        "#Dictionaries\n",
        "D = {'a':0,'b':1,'c':2}\n",
        "print(D.values())\n",
        "print(D['b'])"
      ],
      "metadata": {
        "id": "K1j8Svew6a76",
        "outputId": "3d89133e-e6a7-4cb2-8e8d-de3ed2c7e24f",
        "colab": {
          "base_uri": "https://localhost:8080/"
        }
      },
      "execution_count": 33,
      "outputs": [
        {
          "output_type": "stream",
          "name": "stdout",
          "text": [
            "dict_values([0, 1, 2])\n",
            "1\n"
          ]
        }
      ]
    }
  ]
}